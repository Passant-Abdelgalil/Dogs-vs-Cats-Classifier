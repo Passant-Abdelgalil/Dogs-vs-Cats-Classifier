{
 "cells": [
  {
   "cell_type": "markdown",
   "metadata": {},
   "source": [
    "# Dogs VS Cats Classifier 🐶 🆚 🐱"
   ]
  },
  {
   "cell_type": "markdown",
   "metadata": {},
   "source": [
    "## 📚 Importing libararies "
   ]
  },
  {
   "cell_type": "code",
   "execution_count": null,
   "metadata": {},
   "outputs": [],
   "source": [
    "import os\n",
    "import cv2\n",
    "import glob\n",
    "import numpy as np\n",
    "import matplotlib.pyplot as plt\n",
    "%matplotlib inline\n",
    "\n",
    "import torch\n",
    "import torch.nn as nn\n",
    "import torch.optim as optim\n",
    "import torch.nn.functional as F\n",
    "from torch.utils.data import DataLoader\n",
    "from sklearn.model_selection import train_test_split"
   ]
  },
  {
   "cell_type": "markdown",
   "metadata": {},
   "source": [
    "## Variables"
   ]
  },
  {
   "cell_type": "code",
   "execution_count": null,
   "metadata": {},
   "outputs": [],
   "source": [
    "image_size = 128\n",
    "get_data = False # put it True at the first time\n",
    "batch_size = 64\n",
    "gray_scale = True"
   ]
  },
  {
   "cell_type": "markdown",
   "metadata": {},
   "source": [
    "## 🔃 Loading  and preprocessing data"
   ]
  },
  {
   "cell_type": "code",
   "execution_count": null,
   "metadata": {
    "scrolled": true
   },
   "outputs": [],
   "source": [
    "if get_data: \n",
    "    if gray_scale:\n",
    "        train_images = np.array([cv2.resize(cv2.cvtColor(cv2.imread(image), cv2.COLOR_BGR2GRAY), (image_size, image_size))\n",
    "                             for image in glob.glob('train/*.jpg')])\n",
    "        test_images  = np.array([cv2.resize(cv2.cvtColor(cv2.imread(image), cv2.COLOR_BGR2GRAY), (image_size, image_size))\n",
    "                             for image in glob.glob('test1/*.jpg')])\n",
    "    else:\n",
    "        train_images = np.array([cv2.resize(cv2.cvtColor(cv2.imread(image), cv2.COLOR_BGR2RGB), (image_size, image_size))\n",
    "                             for image in glob.glob('train/*.jpg')])\n",
    "        test_images  = np.array([cv2.resize(cv2.cvtColor(cv2.imread(image), cv2.COLOR_BGR2RGB), (image_size, image_size))\n",
    "                             for image in glob.glob('test1/*.jpg')])\n",
    "    \n",
    "    np.save(\"train_data0.npy\", train_images)\n",
    "    np.save(\"test_data0.npy\", test_images)\n",
    "else:\n",
    "    train_images = np.load(\"train_data0.npy\")\n",
    "    test_images = np.load(\"test_data0.npy\")\n",
    "\n",
    "\n",
    "train_tensor = torch.from_numpy(train_images)\n",
    "test_tensor = torch.from_numpy(test_images)\n",
    "train_labels = torch.cat((torch.zeros((12500, 1)), torch.ones((12500, 1))), axis=0)\n",
    "\n",
    "type(train_tensor), train_tensor.shape, train_labels.shape"
   ]
  },
  {
   "cell_type": "code",
   "execution_count": null,
   "metadata": {},
   "outputs": [],
   "source": [
    "X_train, X_test, y_train, y_test = train_test_split(train_tensor, train_labels, test_size=.2, random_state=0)\n",
    "len(X_test), len(y_train)"
   ]
  },
  {
   "cell_type": "markdown",
   "metadata": {},
   "source": [
    "## Defining a custom dataset and data loaders"
   ]
  },
  {
   "cell_type": "code",
   "execution_count": null,
   "metadata": {},
   "outputs": [],
   "source": [
    "class Dogs_and_Cats():\n",
    "    def __init__(self, data, labels):\n",
    "        self.samples = data\n",
    "        self.labels = labels\n",
    "        \n",
    "    def __len__(self):\n",
    "        return len(self.samples)\n",
    "\n",
    "    def __getitem__(self, idx):\n",
    "        return self.samples[idx], self.labels[idx]\n",
    "\n",
    "\n",
    "trainset = Dogs_and_Cats(X_train, y_train)\n",
    "testset = Dogs_and_Cats(X_test, y_test)"
   ]
  },
  {
   "cell_type": "code",
   "execution_count": null,
   "metadata": {},
   "outputs": [],
   "source": [
    "params = {'batch_size': batch_size,\n",
    "          'shuffle': False, }\n",
    "\n",
    "train_loader = DataLoader(trainset, **params)\n",
    "test_loader = DataLoader(testset, **params)"
   ]
  },
  {
   "cell_type": "markdown",
   "metadata": {},
   "source": [
    "## CNN model"
   ]
  },
  {
   "cell_type": "code",
   "execution_count": null,
   "metadata": {},
   "outputs": [],
   "source": [
    "starting_layer = 3\n",
    "if gray_scale: \n",
    "    starting_layer = 1\n",
    "else:\n",
    "    starting_layer = 3\n",
    "\n",
    "class DogsVsCatsModel(nn.Module):\n",
    "    def __init__(self):\n",
    "        super().__init__()\n",
    "        self.model = nn.Sequential(\n",
    "            nn.Conv2d(starting_layer, 32, 3), # 32 * 126 * 126\n",
    "            nn.ReLU(),\n",
    "            nn.MaxPool2d(2, 2), # 32 * 63 * 63\n",
    "            \n",
    "            nn.Conv2d(32, 64, 3), # 64 * 61 * 61\n",
    "            nn.ReLU(),\n",
    "            nn.MaxPool2d(2, 2), # 64 * 30 * 30\n",
    "            \n",
    "            nn.Conv2d(64, 128, 3), # 128 * 28 * 28\n",
    "            nn.ReLU(),\n",
    "            nn.MaxPool2d(2, 2), # 128 * 14 * 14\n",
    "            \n",
    "            nn.Conv2d(128, 256, 3), # 256 * 12 * 12\n",
    "            nn.ReLU(),\n",
    "            nn.MaxPool2d(2, 2), # 256 * 6 * 6\n",
    "            \n",
    "            nn.Flatten(),\n",
    "            nn.Linear(256 * 6 * 6, 1000),\n",
    "            nn.ReLU(),\n",
    "            nn.Linear(1000, 200),\n",
    "            nn.ReLU(),\n",
    "            nn.Linear(200, 1)\n",
    "        )\n",
    "    \n",
    "    def forward(self, input_batch):\n",
    "        return torch.sigmoid(self.model(input_batch))\n",
    "\n",
    "model = DogsVsCatsModel()"
   ]
  },
  {
   "cell_type": "code",
   "execution_count": null,
   "metadata": {},
   "outputs": [],
   "source": [
    "optimizer = optim.Adam(model.parameters(), lr=.0001)\n",
    "loss_function = nn.MSELoss()\n",
    "# loss_function = nn.CrossEntropyLoss()"
   ]
  },
  {
   "cell_type": "markdown",
   "metadata": {},
   "source": [
    "## 🦾 Training"
   ]
  },
  {
   "cell_type": "code",
   "execution_count": null,
   "metadata": {
    "scrolled": true
   },
   "outputs": [],
   "source": [
    "epochs = 10\n",
    "counter = 1\n",
    "for epoch in range(epochs):\n",
    "    for x, y in train_loader:\n",
    "        x = x.float().reshape(-1, 1, 128, 128)\n",
    "        y = y.float()\n",
    "        \n",
    "        model.zero_grad()\n",
    "        output = model(x)\n",
    "        loss = loss_function(output, y)\n",
    "        loss.backward()\n",
    "        optimizer.step()\n",
    "        \n",
    "        if counter % 100 == 0:\n",
    "            print(f\"batch num {counter} from {int(len(trainset)/batch_size)} with loss: {loss}\")\n",
    "        counter += 1\n",
    "    print(f\"epoch num {epoch + 1} from {epochs} with loss {loss}\")\n",
    "print(loss)"
   ]
  },
  {
   "cell_type": "markdown",
   "metadata": {},
   "source": [
    "## 🤖 Testing "
   ]
  },
  {
   "cell_type": "code",
   "execution_count": null,
   "metadata": {
    "scrolled": true
   },
   "outputs": [],
   "source": [
    "correct = 0\n",
    "total = 0\n",
    "\n",
    "with torch.no_grad():\n",
    "    for i in range(len(X_test)):\n",
    "        real_class = y_test[i]\n",
    "        x = X_test[i].float().view(-1, 1, 128, 128)\n",
    "        net_out = model(x) \n",
    "        predicted_class = (net_out>=0.5)\n",
    "        \n",
    "        if predicted_class == real_class:\n",
    "            correct += 1\n",
    "        total += 1\n",
    "        if total % 1000 == 0:\n",
    "            print(f\"{total} from {len(X_test)}\")\n",
    "        \n",
    "print(\"Accuracy: \", round(correct/total, 3))"
   ]
  },
  {
   "cell_type": "markdown",
   "metadata": {},
   "source": [
    "## 💾 Model and optimizer saving"
   ]
  },
  {
   "cell_type": "code",
   "execution_count": null,
   "metadata": {},
   "outputs": [],
   "source": [
    "PATH = \"Model.pth\"\n",
    "torch.save(model.state_dict(), PATH)"
   ]
  },
  {
   "cell_type": "code",
   "execution_count": null,
   "metadata": {},
   "outputs": [],
   "source": [
    "loaded_model = DogsVsCatsModel()\n",
    "loaded_model.load_state_dict(torch.load(PATH))"
   ]
  },
  {
   "cell_type": "markdown",
   "metadata": {},
   "source": [
    "## 🧐 Calssification"
   ]
  },
  {
   "cell_type": "code",
   "execution_count": null,
   "metadata": {},
   "outputs": [],
   "source": [
    "image_path = \"test.jpg\" # put your image path here and run the cell\n",
    "\n",
    "if gray_scale:\n",
    "    image = cv2.resize(cv2.cvtColor(cv2.imread(image_path), cv2.COLOR_BGR2GRAY), (image_size, image_size))\n",
    "else:\n",
    "    image = cv2.resize(cv2.cvtColor(cv2.imread(image_path), cv2.COLOR_BGR2RGB), (image_size, image_size))\n",
    "\n",
    "image = torch.from_numpy(image)\n",
    "    \n",
    "with torch.no_grad():\n",
    "        image = image.float().view(-1, 1, 128, 128)\n",
    "        net_out = model(image) \n",
    "        is_dog = (net_out >= 0.5)     \n",
    "        is_cat = 1 - np.array(is_dog)[0][0]\n",
    "\n",
    "if is_dog: \n",
    "    print(\"what a strong dog 🐶\")\n",
    "elif is_cat:\n",
    "    print(\"what a beautiful cat 🐱\")\n",
    "    \n",
    "plt.imshow(image.reshape(128, 128), cmap='gray')\n",
    "plt.show()"
   ]
  }
 ],
 "metadata": {
  "kernelspec": {
   "display_name": "Python 3",
   "language": "python",
   "name": "python3"
  },
  "language_info": {
   "codemirror_mode": {
    "name": "ipython",
    "version": 3
   },
   "file_extension": ".py",
   "mimetype": "text/x-python",
   "name": "python",
   "nbconvert_exporter": "python",
   "pygments_lexer": "ipython3",
   "version": "3.7.6"
  }
 },
 "nbformat": 4,
 "nbformat_minor": 4
}
